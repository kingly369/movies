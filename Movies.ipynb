{
 "cells": [
  {
   "cell_type": "code",
   "execution_count": 4,
   "metadata": {},
   "outputs": [],
   "source": [
    "import requests\n",
    "from bs4 import BeautifulSoup\n",
    "import urllib.request\n",
    "import json\n",
    "import urllib3"
   ]
  },
  {
   "cell_type": "code",
   "execution_count": null,
   "metadata": {},
   "outputs": [],
   "source": []
  },
  {
   "cell_type": "code",
   "execution_count": null,
   "metadata": {},
   "outputs": [],
   "source": []
  },
  {
   "cell_type": "code",
   "execution_count": 5,
   "metadata": {},
   "outputs": [],
   "source": [
    "response = urllib.request.urlopen(\"https://www.amctheatres.com/movies\")\n",
    "charset = response.headers.get_content_charset()\n",
    "soup = BeautifulSoup(response, from_encoding=charset)"
   ]
  },
  {
   "cell_type": "code",
   "execution_count": 6,
   "metadata": {},
   "outputs": [],
   "source": [
    "tmp = soup.find_all(class_=\"PosterContent\")"
   ]
  },
  {
   "cell_type": "code",
   "execution_count": 7,
   "metadata": {},
   "outputs": [
    {
     "data": {
      "text/plain": [
       "[<div class=\"PosterContent\"><a href=\"/movies/star-wars-the-rise-of-skywalker-53726\"><h3>Star Wars: The Rise of Skywalker</h3></a><div class=\"Headline--eyebrow poster-content-meta\"><p><span aria-label=\"Please allow approximately 20 extra minutes for pre-show and trailers before the show starts.\" data-tour=\"movieInfo\" tabindex=\"0\"><span class=\"u-screenreader-only\">Please allow approximately 20 extra minutes for pre-show and trailers before the show starts.</span><span class=\"u-separator js-runtimeConvert u-inlineFlexCenter\">2 hr 22 min</span></span><span>PG13</span><span class=\"MoviePosters__released-month clearfix\">Released<!-- --> <!-- -->Dec 20, 2019</span></p></div><div><a class=\"Btn Btn--primary\" href=\"/movies/star-wars-the-rise-of-skywalker-53726/showtimes\">Get Tickets</a></div></div>,\n",
       " <div class=\"PosterContent\"><a href=\"/movies/jumanji-the-next-level-57550\"><h3>Jumanji: The Next Level</h3></a><div class=\"Headline--eyebrow poster-content-meta\"><p><span aria-label=\"Please allow approximately 20 extra minutes for pre-show and trailers before the show starts.\" data-tour=\"movieInfo\" tabindex=\"0\"><span class=\"u-screenreader-only\">Please allow approximately 20 extra minutes for pre-show and trailers before the show starts.</span><span class=\"u-separator js-runtimeConvert u-inlineFlexCenter\">2 hr 2 min</span></span><span>PG13</span><span class=\"MoviePosters__released-month clearfix\">Released<!-- --> <!-- -->Dec 13, 2019</span></p></div><div><a class=\"Btn Btn--primary\" href=\"/movies/jumanji-the-next-level-57550/showtimes\">Get Tickets</a></div></div>,\n",
       " <div class=\"PosterContent\"><a href=\"/movies/the-grudge-56834\"><h3>The Grudge</h3></a><div class=\"Headline--eyebrow poster-content-meta\"><p><span aria-label=\"Please allow approximately 20 extra minutes for pre-show and trailers before the show starts.\" data-tour=\"movieInfo\" tabindex=\"0\"><span class=\"u-screenreader-only\">Please allow approximately 20 extra minutes for pre-show and trailers before the show starts.</span><span class=\"u-separator js-runtimeConvert u-inlineFlexCenter\">1 hr 34 min</span></span><span>R</span><span class=\"MoviePosters__released-month clearfix\">Released<!-- --> <!-- -->Jan 3, 2020</span></p></div><div><a class=\"Btn Btn--primary\" href=\"/movies/the-grudge-56834/showtimes\">Get Tickets</a></div></div>,\n",
       " <div class=\"PosterContent\"><a href=\"/movies/frozen-2-49085\"><h3>Frozen 2</h3></a><div class=\"Headline--eyebrow poster-content-meta\"><p><span aria-label=\"Please allow approximately 20 extra minutes for pre-show and trailers before the show starts.\" data-tour=\"movieInfo\" tabindex=\"0\"><span class=\"u-screenreader-only\">Please allow approximately 20 extra minutes for pre-show and trailers before the show starts.</span><span class=\"u-separator js-runtimeConvert u-inlineFlexCenter\">1 hr 44 min</span></span><span>PG</span><span class=\"MoviePosters__released-month clearfix\">Released<!-- --> <!-- -->Nov 22, 2019</span></p></div><div><a class=\"Btn Btn--primary\" href=\"/movies/frozen-2-49085/showtimes\">Get Tickets</a></div></div>,\n",
       " <div class=\"PosterContent\"><a href=\"/movies/little-women-57706\"><h3>Little Women (2019)</h3></a><div class=\"Headline--eyebrow poster-content-meta\"><p><span aria-label=\"Please allow approximately 20 extra minutes for pre-show and trailers before the show starts.\" data-tour=\"movieInfo\" tabindex=\"0\"><span class=\"u-screenreader-only\">Please allow approximately 20 extra minutes for pre-show and trailers before the show starts.</span><span class=\"u-separator js-runtimeConvert u-inlineFlexCenter\">2 hr 15 min</span></span><span>PG</span><span class=\"MoviePosters__released-month clearfix\">Released<!-- --> <!-- -->Dec 25, 2019</span></p></div><div><a class=\"Btn Btn--primary\" href=\"/movies/little-women-57706/showtimes\">Get Tickets</a></div></div>,\n",
       " <div class=\"PosterContent\"><a href=\"/movies/spies-in-disguise-51299\"><h3>Spies In Disguise</h3></a><div class=\"Headline--eyebrow poster-content-meta\"><p><span aria-label=\"Please allow approximately 20 extra minutes for pre-show and trailers before the show starts.\" data-tour=\"movieInfo\" tabindex=\"0\"><span class=\"u-screenreader-only\">Please allow approximately 20 extra minutes for pre-show and trailers before the show starts.</span><span class=\"u-separator js-runtimeConvert u-inlineFlexCenter\">1 hr 42 min</span></span><span>PG</span><span class=\"MoviePosters__released-month clearfix\">Released<!-- --> <!-- -->Dec 25, 2019</span></p></div><div><a class=\"Btn Btn--primary\" href=\"/movies/spies-in-disguise-51299/showtimes\">Get Tickets</a></div></div>,\n",
       " <div class=\"PosterContent\"><a href=\"/movies/knives-out-59161\"><h3>Knives Out</h3></a><div class=\"Headline--eyebrow poster-content-meta\"><p><span aria-label=\"Please allow approximately 20 extra minutes for pre-show and trailers before the show starts.\" data-tour=\"movieInfo\" tabindex=\"0\"><span class=\"u-screenreader-only\">Please allow approximately 20 extra minutes for pre-show and trailers before the show starts.</span><span class=\"u-separator js-runtimeConvert u-inlineFlexCenter\">2 hr 10 min</span></span><span>PG13</span><span class=\"MoviePosters__released-month clearfix\">Released<!-- --> <!-- -->Nov 27, 2019</span></p></div><div><a class=\"Btn Btn--primary\" href=\"/movies/knives-out-59161/showtimes\">Get Tickets</a></div></div>,\n",
       " <div class=\"PosterContent\"><a href=\"/movies/uncut-gems-60990\"><h3>Uncut Gems</h3></a><div class=\"Headline--eyebrow poster-content-meta\"><p><span aria-label=\"Please allow approximately 20 extra minutes for pre-show and trailers before the show starts.\" data-tour=\"movieInfo\" tabindex=\"0\"><span class=\"u-screenreader-only\">Please allow approximately 20 extra minutes for pre-show and trailers before the show starts.</span><span class=\"u-separator js-runtimeConvert u-inlineFlexCenter\">2 hr 14 min</span></span><span>R</span><span class=\"MoviePosters__released-month clearfix\">Released<!-- --> <!-- -->Dec 13, 2019</span></p></div><div><a class=\"Btn Btn--primary\" href=\"/movies/uncut-gems-60990/showtimes\">Get Tickets</a></div></div>,\n",
       " <div class=\"PosterContent\"><a href=\"/movies/bombshell-59758\"><h3>Bombshell</h3></a><div class=\"Headline--eyebrow poster-content-meta\"><p><span aria-label=\"Please allow approximately 20 extra minutes for pre-show and trailers before the show starts.\" data-tour=\"movieInfo\" tabindex=\"0\"><span class=\"u-screenreader-only\">Please allow approximately 20 extra minutes for pre-show and trailers before the show starts.</span><span class=\"u-separator js-runtimeConvert u-inlineFlexCenter\">1 hr 49 min</span></span><span>R</span><span class=\"MoviePosters__released-month clearfix\">Released<!-- --> <!-- -->Dec 13, 2019</span></p></div><div><a class=\"Btn Btn--primary\" href=\"/movies/bombshell-59758/showtimes\">Get Tickets</a></div></div>,\n",
       " <div class=\"PosterContent\"><a href=\"/movies/cats-58219\"><h3>Cats</h3></a><div class=\"Headline--eyebrow poster-content-meta\"><p><span aria-label=\"Please allow approximately 20 extra minutes for pre-show and trailers before the show starts.\" data-tour=\"movieInfo\" tabindex=\"0\"><span class=\"u-screenreader-only\">Please allow approximately 20 extra minutes for pre-show and trailers before the show starts.</span><span class=\"u-separator js-runtimeConvert u-inlineFlexCenter\">1 hr 49 min</span></span><span>PG</span><span class=\"MoviePosters__released-month clearfix\">Released<!-- --> <!-- -->Dec 20, 2019</span></p></div><div><a class=\"Btn Btn--primary\" href=\"/movies/cats-58219/showtimes\">Get Tickets</a></div></div>,\n",
       " <div class=\"PosterContent\"><a href=\"/movies/richard-jewell-61841\"><h3>Richard Jewell</h3></a><div class=\"Headline--eyebrow poster-content-meta\"><p><span aria-label=\"Please allow approximately 20 extra minutes for pre-show and trailers before the show starts.\" data-tour=\"movieInfo\" tabindex=\"0\"><span class=\"u-screenreader-only\">Please allow approximately 20 extra minutes for pre-show and trailers before the show starts.</span><span class=\"u-separator js-runtimeConvert u-inlineFlexCenter\">2 hr 12 min</span></span><span>R</span><span class=\"MoviePosters__released-month clearfix\">Released<!-- --> <!-- -->Dec 13, 2019</span></p></div><div><a class=\"Btn Btn--primary\" href=\"/movies/richard-jewell-61841/showtimes\">Get Tickets</a></div></div>,\n",
       " <div class=\"PosterContent\"><a href=\"/movies/ford-v-ferrari-57536\"><h3>Ford v Ferrari</h3></a><div class=\"Headline--eyebrow poster-content-meta\"><p><span aria-label=\"Please allow approximately 20 extra minutes for pre-show and trailers before the show starts.\" data-tour=\"movieInfo\" tabindex=\"0\"><span class=\"u-screenreader-only\">Please allow approximately 20 extra minutes for pre-show and trailers before the show starts.</span><span class=\"u-separator js-runtimeConvert u-inlineFlexCenter\">2 hr 32 min</span></span><span>PG13</span><span class=\"MoviePosters__released-month clearfix\">Released<!-- --> <!-- -->Nov 15, 2019</span></p></div><div><a class=\"Btn Btn--primary\" href=\"/movies/ford-v-ferrari-57536/showtimes\">Get Tickets</a></div></div>,\n",
       " <div class=\"PosterContent\"><a href=\"/movies/queen-slim-57716\"><h3>Queen &amp; Slim</h3></a><div class=\"Headline--eyebrow poster-content-meta\"><p><span aria-label=\"Please allow approximately 20 extra minutes for pre-show and trailers before the show starts.\" data-tour=\"movieInfo\" tabindex=\"0\"><span class=\"u-screenreader-only\">Please allow approximately 20 extra minutes for pre-show and trailers before the show starts.</span><span class=\"u-separator js-runtimeConvert u-inlineFlexCenter\">2 hr 12 min</span></span><span>R</span><span class=\"MoviePosters__released-month clearfix\">Released<!-- --> <!-- -->Nov 27, 2019</span></p></div><div><a class=\"Btn Btn--primary\" href=\"/movies/queen-slim-57716/showtimes\">Get Tickets</a></div></div>,\n",
       " <div class=\"PosterContent\"><a href=\"/movies/good-newwz-62324\"><h3>Good Newwz</h3></a><div class=\"Headline--eyebrow poster-content-meta\"><p><span aria-label=\"Please allow approximately 20 extra minutes for pre-show and trailers before the show starts.\" data-tour=\"movieInfo\" tabindex=\"0\"><span class=\"u-screenreader-only\">Please allow approximately 20 extra minutes for pre-show and trailers before the show starts.</span><span class=\"u-separator js-runtimeConvert u-inlineFlexCenter\">2 hr 12 min</span></span><span>NR</span><span class=\"MoviePosters__released-month clearfix\">Released<!-- --> <!-- -->Dec 27, 2019</span></p></div><div><a class=\"Btn Btn--primary\" href=\"/movies/good-newwz-62324/showtimes\">Get Tickets</a></div></div>,\n",
       " <div class=\"PosterContent\"><a href=\"/movies/a-beautiful-day-in-the-neighborhood-57146\"><h3>A Beautiful Day In The Neighborhood</h3></a><div class=\"Headline--eyebrow poster-content-meta\"><p><span aria-label=\"Please allow approximately 20 extra minutes for pre-show and trailers before the show starts.\" data-tour=\"movieInfo\" tabindex=\"0\"><span class=\"u-screenreader-only\">Please allow approximately 20 extra minutes for pre-show and trailers before the show starts.</span><span class=\"u-separator js-runtimeConvert u-inlineFlexCenter\">1 hr 49 min</span></span><span>PG</span><span class=\"MoviePosters__released-month clearfix\">Released<!-- --> <!-- -->Nov 22, 2019</span></p></div><div><a class=\"Btn Btn--primary\" href=\"/movies/a-beautiful-day-in-the-neighborhood-57146/showtimes\">Get Tickets</a></div></div>,\n",
       " <div class=\"PosterContent\"><a href=\"/movies/21-bridges-58182\"><h3>21 Bridges</h3></a><div class=\"Headline--eyebrow poster-content-meta\"><p><span aria-label=\"Please allow approximately 20 extra minutes for pre-show and trailers before the show starts.\" data-tour=\"movieInfo\" tabindex=\"0\"><span class=\"u-screenreader-only\">Please allow approximately 20 extra minutes for pre-show and trailers before the show starts.</span><span class=\"u-separator js-runtimeConvert u-inlineFlexCenter\">1 hr 40 min</span></span><span>R</span><span class=\"MoviePosters__released-month clearfix\">Released<!-- --> <!-- -->Nov 22, 2019</span></p></div><div><a class=\"Btn Btn--primary\" href=\"/movies/21-bridges-58182/showtimes\">Get Tickets</a></div></div>,\n",
       " <div class=\"PosterContent\"><a href=\"/movies/black-christmas-55044\"><h3>Black Christmas</h3></a><div class=\"Headline--eyebrow poster-content-meta\"><p><span aria-label=\"Please allow approximately 20 extra minutes for pre-show and trailers before the show starts.\" data-tour=\"movieInfo\" tabindex=\"0\"><span class=\"u-screenreader-only\">Please allow approximately 20 extra minutes for pre-show and trailers before the show starts.</span><span class=\"u-separator js-runtimeConvert u-inlineFlexCenter\">1 hr 32 min</span></span><span>PG13</span><span class=\"MoviePosters__released-month clearfix\">Released<!-- --> <!-- -->Dec 13, 2019</span></p></div><div><a class=\"Btn Btn--primary\" href=\"/movies/black-christmas-55044/showtimes\">Get Tickets</a></div></div>,\n",
       " <div class=\"PosterContent\"><a href=\"/movies/ip-man-4-62250\"><h3>Ip Man 4</h3></a><div class=\"Headline--eyebrow poster-content-meta\"><p><span aria-label=\"Please allow approximately 20 extra minutes for pre-show and trailers before the show starts.\" data-tour=\"movieInfo\" tabindex=\"0\"><span class=\"u-screenreader-only\">Please allow approximately 20 extra minutes for pre-show and trailers before the show starts.</span><span class=\"u-separator js-runtimeConvert u-inlineFlexCenter\">1 hr 45 min</span></span><span>NR</span><span class=\"MoviePosters__released-month clearfix\">Released<!-- --> <!-- -->Dec 25, 2019</span></p></div><div><a class=\"Btn Btn--primary\" href=\"/movies/ip-man-4-62250/showtimes\">Get Tickets</a></div></div>,\n",
       " <div class=\"PosterContent\"><a href=\"/movies/jojo-rabbit-60374\"><h3>Jojo Rabbit</h3></a><div class=\"Headline--eyebrow poster-content-meta\"><p><span aria-label=\"Please allow approximately 20 extra minutes for pre-show and trailers before the show starts.\" data-tour=\"movieInfo\" tabindex=\"0\"><span class=\"u-screenreader-only\">Please allow approximately 20 extra minutes for pre-show and trailers before the show starts.</span><span class=\"u-separator js-runtimeConvert u-inlineFlexCenter\">1 hr 48 min</span></span><span>PG13</span><span class=\"MoviePosters__released-month clearfix\">Released<!-- --> <!-- -->Oct 18, 2019</span></p></div><div><a class=\"Btn Btn--primary\" href=\"/movies/jojo-rabbit-60374/showtimes\">Get Tickets</a></div></div>,\n",
       " <div class=\"PosterContent\"><a href=\"/movies/a-hidden-life-60829\"><h3>A Hidden Life</h3></a><div class=\"Headline--eyebrow poster-content-meta\"><p><span aria-label=\"Please allow approximately 20 extra minutes for pre-show and trailers before the show starts.\" data-tour=\"movieInfo\" tabindex=\"0\"><span class=\"u-screenreader-only\">Please allow approximately 20 extra minutes for pre-show and trailers before the show starts.</span><span class=\"u-separator js-runtimeConvert u-inlineFlexCenter\">2 hr 54 min</span></span><span>PG13</span><span class=\"MoviePosters__released-month clearfix\">Released<!-- --> <!-- -->Dec 13, 2019</span></p></div><div><a class=\"Btn Btn--primary\" href=\"/movies/a-hidden-life-60829/showtimes\">Get Tickets</a></div></div>,\n",
       " <div class=\"PosterContent\"><a href=\"/movies/doctor-who-live-q-a-and-screening-62286\"><h3>Doctor Who Live Q&amp;A and Screening</h3></a><div class=\"Headline--eyebrow poster-content-meta\"><p><span aria-label=\"Please allow approximately 20 extra minutes for pre-show and trailers before the show starts.\" data-tour=\"movieInfo\" tabindex=\"0\"><span class=\"u-screenreader-only\">Please allow approximately 20 extra minutes for pre-show and trailers before the show starts.</span><span class=\"u-separator js-runtimeConvert u-inlineFlexCenter\">2 hr 35 min</span></span><span>NR</span><span class=\"MoviePosters__released-month clearfix\">Released<!-- --> <!-- -->Jan 5, 2020</span></p></div><div><a class=\"Btn Btn--primary\" href=\"/movies/doctor-who-live-q-a-and-screening-62286/showtimes\">Get Tickets</a></div></div>]"
      ]
     },
     "execution_count": 7,
     "metadata": {},
     "output_type": "execute_result"
    }
   ],
   "source": [
    "tmp"
   ]
  },
  {
   "cell_type": "code",
   "execution_count": 8,
   "metadata": {},
   "outputs": [],
   "source": [
    "storedMovies = []\n",
    "for x in tmp:\n",
    "    #tmp = soup.find_all(class_=\"PosterContent\")[0]\n",
    "    storedMovies.append(x.find_all(\"h3\")[0])"
   ]
  },
  {
   "cell_type": "code",
   "execution_count": 9,
   "metadata": {},
   "outputs": [
    {
     "data": {
      "text/plain": [
       "[<h3>Star Wars: The Rise of Skywalker</h3>,\n",
       " <h3>Jumanji: The Next Level</h3>,\n",
       " <h3>The Grudge</h3>,\n",
       " <h3>Frozen 2</h3>,\n",
       " <h3>Little Women (2019)</h3>,\n",
       " <h3>Spies In Disguise</h3>,\n",
       " <h3>Knives Out</h3>,\n",
       " <h3>Uncut Gems</h3>,\n",
       " <h3>Bombshell</h3>,\n",
       " <h3>Cats</h3>,\n",
       " <h3>Richard Jewell</h3>,\n",
       " <h3>Ford v Ferrari</h3>,\n",
       " <h3>Queen &amp; Slim</h3>,\n",
       " <h3>Good Newwz</h3>,\n",
       " <h3>A Beautiful Day In The Neighborhood</h3>,\n",
       " <h3>21 Bridges</h3>,\n",
       " <h3>Black Christmas</h3>,\n",
       " <h3>Ip Man 4</h3>,\n",
       " <h3>Jojo Rabbit</h3>,\n",
       " <h3>A Hidden Life</h3>,\n",
       " <h3>Doctor Who Live Q&amp;A and Screening</h3>]"
      ]
     },
     "execution_count": 9,
     "metadata": {},
     "output_type": "execute_result"
    }
   ],
   "source": [
    "storedMovies"
   ]
  },
  {
   "cell_type": "code",
   "execution_count": 10,
   "metadata": {},
   "outputs": [],
   "source": [
    "d = tmp[0]"
   ]
  },
  {
   "cell_type": "code",
   "execution_count": 11,
   "metadata": {},
   "outputs": [
    {
     "data": {
      "text/plain": [
       "<bound method Tag.get_text of <div class=\"PosterContent\"><a href=\"/movies/star-wars-the-rise-of-skywalker-53726\"><h3>Star Wars: The Rise of Skywalker</h3></a><div class=\"Headline--eyebrow poster-content-meta\"><p><span aria-label=\"Please allow approximately 20 extra minutes for pre-show and trailers before the show starts.\" data-tour=\"movieInfo\" tabindex=\"0\"><span class=\"u-screenreader-only\">Please allow approximately 20 extra minutes for pre-show and trailers before the show starts.</span><span class=\"u-separator js-runtimeConvert u-inlineFlexCenter\">2 hr 22 min</span></span><span>PG13</span><span class=\"MoviePosters__released-month clearfix\">Released<!-- --> <!-- -->Dec 20, 2019</span></p></div><div><a class=\"Btn Btn--primary\" href=\"/movies/star-wars-the-rise-of-skywalker-53726/showtimes\">Get Tickets</a></div></div>>"
      ]
     },
     "execution_count": 11,
     "metadata": {},
     "output_type": "execute_result"
    }
   ],
   "source": [
    "d.get_text"
   ]
  },
  {
   "cell_type": "code",
   "execution_count": 12,
   "metadata": {},
   "outputs": [
    {
     "data": {
      "text/plain": [
       "<div class=\"PosterContent\"><a href=\"/movies/star-wars-the-rise-of-skywalker-53726\"><h3>Star Wars: The Rise of Skywalker</h3></a><div class=\"Headline--eyebrow poster-content-meta\"><p><span aria-label=\"Please allow approximately 20 extra minutes for pre-show and trailers before the show starts.\" data-tour=\"movieInfo\" tabindex=\"0\"><span class=\"u-screenreader-only\">Please allow approximately 20 extra minutes for pre-show and trailers before the show starts.</span><span class=\"u-separator js-runtimeConvert u-inlineFlexCenter\">2 hr 22 min</span></span><span>PG13</span><span class=\"MoviePosters__released-month clearfix\">Released<!-- --> <!-- -->Dec 20, 2019</span></p></div><div><a class=\"Btn Btn--primary\" href=\"/movies/star-wars-the-rise-of-skywalker-53726/showtimes\">Get Tickets</a></div></div>"
      ]
     },
     "execution_count": 12,
     "metadata": {},
     "output_type": "execute_result"
    }
   ],
   "source": [
    "tmp[0]"
   ]
  },
  {
   "cell_type": "code",
   "execution_count": 16,
   "metadata": {},
   "outputs": [
    {
     "name": "stdout",
     "output_type": "stream",
     "text": [
      "What city do you live?\n",
      "san jose\n"
     ]
    }
   ],
   "source": [
    "import urllib.parse\n",
    "city = input(\"What city do you live?\\n\")\n",
    "city = city.replace(' ', '-')\n",
    "#city.encode(encoding=\"ascii\")"
   ]
  },
  {
   "cell_type": "code",
   "execution_count": 17,
   "metadata": {},
   "outputs": [],
   "source": [
    "response = urllib.request.urlopen('https://www.amctheatres.com/movie-theatres/san-jose')\n",
    "soup = BeautifulSoup(response)\n",
    "theaters = []\n",
    "for x in soup.find_all('span', {'class': ['Headline--h3']}):\n",
    "    theaters.append(x.get_text())"
   ]
  },
  {
   "cell_type": "code",
   "execution_count": 18,
   "metadata": {},
   "outputs": [
    {
     "name": "stdout",
     "output_type": "stream",
     "text": [
      "How many days?\n",
      "5\n"
     ]
    }
   ],
   "source": [
    "import datetime\n",
    "availableDays = input(\"How many days?\\n\")\n",
    "date_range = datetime.datetime.now()\n",
    "tmpRange = []\n",
    "for x in range(0,int(availableDays)):\n",
    "    tmpRange.append(str(date_range.date() + datetime.timedelta(days=int(x))))"
   ]
  },
  {
   "cell_type": "code",
   "execution_count": 20,
   "metadata": {},
   "outputs": [],
   "source": [
    "#tmpRange"
   ]
  },
  {
   "cell_type": "code",
   "execution_count": 21,
   "metadata": {},
   "outputs": [],
   "source": [
    "urlAvailable = []\n",
    "for x in tmpRange:\n",
    "    urlTheater = 'https://www.amctheatres.com/' + 'movie-theatres/' + city +'/'+theaters[0].replace(' ', '-') + '/showtimes/all/' + x + '/' + theaters[0].replace(' ', '-') + '/all'\n",
    "    urlAvailable.append(urlTheater)"
   ]
  },
  {
   "cell_type": "code",
   "execution_count": null,
   "metadata": {},
   "outputs": [],
   "source": []
  },
  {
   "cell_type": "code",
   "execution_count": 23,
   "metadata": {},
   "outputs": [
    {
     "name": "stderr",
     "output_type": "stream",
     "text": [
      "C:\\Users\\kent\\Documents\\CodingStuff\\PythonStuff\\lib\\site-packages\\urllib3\\connectionpool.py:847: InsecureRequestWarning: Unverified HTTPS request is being made. Adding certificate verification is strongly advised. See: https://urllib3.readthedocs.io/en/latest/advanced-usage.html#ssl-warnings\n",
      "  InsecureRequestWarning)\n",
      "C:\\Users\\kent\\Documents\\CodingStuff\\PythonStuff\\lib\\site-packages\\urllib3\\connectionpool.py:847: InsecureRequestWarning: Unverified HTTPS request is being made. Adding certificate verification is strongly advised. See: https://urllib3.readthedocs.io/en/latest/advanced-usage.html#ssl-warnings\n",
      "  InsecureRequestWarning)\n",
      "C:\\Users\\kent\\Documents\\CodingStuff\\PythonStuff\\lib\\site-packages\\urllib3\\connectionpool.py:847: InsecureRequestWarning: Unverified HTTPS request is being made. Adding certificate verification is strongly advised. See: https://urllib3.readthedocs.io/en/latest/advanced-usage.html#ssl-warnings\n",
      "  InsecureRequestWarning)\n",
      "C:\\Users\\kent\\Documents\\CodingStuff\\PythonStuff\\lib\\site-packages\\urllib3\\connectionpool.py:847: InsecureRequestWarning: Unverified HTTPS request is being made. Adding certificate verification is strongly advised. See: https://urllib3.readthedocs.io/en/latest/advanced-usage.html#ssl-warnings\n",
      "  InsecureRequestWarning)\n",
      "C:\\Users\\kent\\Documents\\CodingStuff\\PythonStuff\\lib\\site-packages\\urllib3\\connectionpool.py:847: InsecureRequestWarning: Unverified HTTPS request is being made. Adding certificate verification is strongly advised. See: https://urllib3.readthedocs.io/en/latest/advanced-usage.html#ssl-warnings\n",
      "  InsecureRequestWarning)\n"
     ]
    }
   ],
   "source": [
    "tmpurl = urllib3.PoolManager()\n",
    "listOfMovieTimes = {}\n",
    "for count in range(0,len(urlAvailable)):\n",
    "    resp = tmpurl.request('GET', urlAvailable[count])\n",
    "    soup = BeautifulSoup(resp.data, 'html.parser')\n",
    "    #content = soup.find_all('a', {'class': ['Showtime','Btn', 'Btn--default']})\n",
    "    #content\n",
    "    listOfMovieTimes[tmpRange[count]] = {}\n",
    "    for x in soup.find_all('a', {'class': ['Showtime','Btn', 'Btn--default']}):\n",
    "        if 'movie-info-button' not in x.attrs['class']:\n",
    "            #print(x.attrs['id'])\n",
    "            tmp = x.attrs['id'].split('-')\n",
    "            tmpName = tmp[2:-2]\n",
    "            time = tmp[-1]\n",
    "            #print(tmpName)\n",
    "            \n",
    "            if ' '.join(tmpName) not in listOfMovieTimes[tmpRange[count]]:\n",
    "                listOfMovieTimes[tmpRange[count]][' '.join(tmpName)] = [time]\n",
    "            else:\n",
    "                listOfMovieTimes[tmpRange[count]][' '.join(tmpName)].append(time)"
   ]
  },
  {
   "cell_type": "code",
   "execution_count": 24,
   "metadata": {},
   "outputs": [
    {
     "data": {
      "text/plain": [
       "{'2020-01-05': {'star wars: the rise of skywalker': ['11:45am',\n",
       "   '3:15pm',\n",
       "   '6:45pm',\n",
       "   '10:15pm',\n",
       "   '12:45pm',\n",
       "   '7:45pm',\n",
       "   '4:15pm',\n",
       "   '11:00pm',\n",
       "   '10:30am',\n",
       "   '2:15pm',\n",
       "   '6:00pm',\n",
       "   '9:30pm'],\n",
       "  'jumanji: the next level': ['10:00am',\n",
       "   '12:30pm',\n",
       "   '1:00pm',\n",
       "   '3:30pm',\n",
       "   '4:00pm',\n",
       "   '6:30pm',\n",
       "   '7:15pm',\n",
       "   '9:20pm'],\n",
       "  'the grudge': ['12:00pm',\n",
       "   '2:20pm',\n",
       "   '4:50pm',\n",
       "   '7:35pm',\n",
       "   '10:00pm',\n",
       "   '10:45pm'],\n",
       "  'frozen 2': ['10:15am',\n",
       "   '11:05am',\n",
       "   '12:50pm',\n",
       "   '1:45pm',\n",
       "   '3:35pm',\n",
       "   '4:35pm',\n",
       "   '7:30pm',\n",
       "   '10:30pm'],\n",
       "  'little women (2019)': ['10:20am', '1:25pm', '4:25pm', '7:25pm', '10:25pm'],\n",
       "  'spies in disguise': ['11:00am',\n",
       "   '1:30pm',\n",
       "   '2:35pm',\n",
       "   '4:15pm',\n",
       "   '5:15pm',\n",
       "   '7:00pm',\n",
       "   '9:45pm'],\n",
       "  'knives out': ['10:55am', '2:00pm', '5:00pm', '7:55pm', '10:55pm'],\n",
       "  'uncut gems': ['10:10am', '1:20pm', '4:30pm', '7:40pm', '10:50pm'],\n",
       "  'bombshell': ['2:30pm', '5:30pm', '8:10pm'],\n",
       "  'cats': ['6:20pm', '9:00pm'],\n",
       "  'queen & slim': ['8:00pm', '11:00pm'],\n",
       "  'a beautiful day in the neighborhood': ['11:40am'],\n",
       "  '21 bridges': ['10:20pm'],\n",
       "  'ip man 4': ['10:30am', '1:15pm', '4:05pm', '6:50pm', '9:35pm'],\n",
       "  'doctor who live q&a and screening': ['11:00am']},\n",
       " '2020-01-06': {'star wars: the rise of skywalker': ['3:15pm',\n",
       "   '6:45pm',\n",
       "   '10:15pm',\n",
       "   '2:00pm',\n",
       "   '9:00pm',\n",
       "   '5:30pm',\n",
       "   '1:00pm',\n",
       "   '4:15pm',\n",
       "   '7:45pm'],\n",
       "  'jumanji: the next level': ['12:45pm',\n",
       "   '1:15pm',\n",
       "   '3:40pm',\n",
       "   '4:15pm',\n",
       "   '6:35pm',\n",
       "   '7:10pm',\n",
       "   '9:45pm'],\n",
       "  'the grudge': ['2:00pm', '4:50pm', '7:20pm', '10:00pm'],\n",
       "  'frozen 2': ['1:30pm', '2:05pm', '4:00pm', '4:35pm', '6:30pm', '9:15pm'],\n",
       "  'little women (2019)': ['12:55pm', '4:05pm', '7:05pm', '10:10pm'],\n",
       "  'spies in disguise': ['1:00pm',\n",
       "   '1:45pm',\n",
       "   '3:30pm',\n",
       "   '4:30pm',\n",
       "   '6:15pm',\n",
       "   '7:00pm',\n",
       "   '9:30pm'],\n",
       "  'knives out': ['12:50pm', '3:50pm', '6:50pm', '9:55pm'],\n",
       "  'uncut gems': ['1:05pm', '4:10pm', '7:15pm', '10:15pm'],\n",
       "  'bombshell': ['3:45pm', '6:40pm', '9:20pm'],\n",
       "  'cats': ['7:25pm', '10:05pm'],\n",
       "  'queen & slim': ['9:05pm'],\n",
       "  'a beautiful day in the neighborhood': ['12:50pm'],\n",
       "  'ip man 4': ['1:20pm', '4:20pm', '6:55pm', '9:35pm']},\n",
       " '2020-01-07': {'star wars: the rise of skywalker': ['3:15pm',\n",
       "   '6:45pm',\n",
       "   '10:15pm',\n",
       "   '2:00pm',\n",
       "   '9:00pm',\n",
       "   '5:30pm',\n",
       "   '12:45pm',\n",
       "   '4:00pm',\n",
       "   '7:30pm'],\n",
       "  'jumanji: the next level': ['12:45pm',\n",
       "   '1:15pm',\n",
       "   '3:40pm',\n",
       "   '4:45pm',\n",
       "   '6:35pm',\n",
       "   '7:35pm',\n",
       "   '9:45pm',\n",
       "   '10:35pm'],\n",
       "  'the grudge': ['12:45pm', '3:40pm', '6:35pm', '9:45pm'],\n",
       "  'frozen 2': ['1:30pm', '2:05pm', '4:00pm', '4:35pm', '6:30pm', '9:15pm'],\n",
       "  'little women (2019)': ['12:55pm', '4:05pm', '7:05pm', '10:20pm'],\n",
       "  'spies in disguise': ['1:00pm',\n",
       "   '1:45pm',\n",
       "   '3:30pm',\n",
       "   '4:30pm',\n",
       "   '7:00pm',\n",
       "   '9:30pm'],\n",
       "  'knives out': ['12:50pm', '3:50pm', '6:50pm', '9:55pm'],\n",
       "  'uncut gems': ['1:05pm', '4:10pm', '7:15pm', '10:15pm'],\n",
       "  'bombshell': ['3:45pm', '6:40pm', '9:20pm'],\n",
       "  'cats': ['7:25pm', '10:05pm'],\n",
       "  'queen & slim': ['10:10pm'],\n",
       "  'a beautiful day in the neighborhood': ['12:50pm'],\n",
       "  'ip man 4': ['1:20pm', '4:20pm', '6:55pm', '9:35pm'],\n",
       "  'mystify: michael hutchence': ['7:00pm']},\n",
       " '2020-01-08': {'star wars: the rise of skywalker': ['3:15pm',\n",
       "   '6:45pm',\n",
       "   '10:15pm',\n",
       "   '2:00pm',\n",
       "   '9:00pm',\n",
       "   '5:30pm',\n",
       "   '12:45pm',\n",
       "   '4:15pm',\n",
       "   '7:45pm'],\n",
       "  'jumanji: the next level': ['12:45pm',\n",
       "   '1:15pm',\n",
       "   '3:40pm',\n",
       "   '4:10pm',\n",
       "   '6:35pm',\n",
       "   '9:45pm'],\n",
       "  'the grudge': ['2:00pm', '4:25pm', '6:15pm', '10:15pm'],\n",
       "  'frozen 2': ['1:30pm', '2:05pm', '4:00pm', '4:35pm', '6:30pm', '9:15pm'],\n",
       "  'little women (2019)': ['12:55pm', '4:05pm', '7:05pm', '10:10pm'],\n",
       "  'spies in disguise': ['1:00pm',\n",
       "   '1:45pm',\n",
       "   '3:30pm',\n",
       "   '4:30pm',\n",
       "   '7:00pm',\n",
       "   '9:30pm'],\n",
       "  'knives out': ['12:50pm', '3:50pm', '6:50pm', '9:55pm'],\n",
       "  'uncut gems': ['1:05pm', '4:10pm', '7:15pm', '10:15pm'],\n",
       "  'bombshell': ['3:45pm', '6:40pm', '9:20pm'],\n",
       "  'cats': ['7:25pm', '10:05pm'],\n",
       "  'queen & slim': ['9:05pm'],\n",
       "  'a beautiful day in the neighborhood': ['12:50pm'],\n",
       "  '21 bridges': ['10:10pm'],\n",
       "  'ip man 4': ['1:20pm', '4:20pm', '6:55pm', '9:35pm'],\n",
       "  \"like a boss girls' night out\": ['7:00pm']},\n",
       " '2020-01-09': {'the grudge': ['7:35pm', '10:00pm'],\n",
       "  'just mercy': ['6:00pm', '9:15pm'],\n",
       "  'like a boss': ['7:00pm', '9:15pm'],\n",
       "  '1917': ['7:00pm', '10:00pm', '8:00pm', '9:00pm'],\n",
       "  'underwater': ['7:00pm', '9:45pm']}}"
      ]
     },
     "execution_count": 24,
     "metadata": {},
     "output_type": "execute_result"
    }
   ],
   "source": [
    "listOfMovieTimes"
   ]
  },
  {
   "cell_type": "code",
   "execution_count": null,
   "metadata": {},
   "outputs": [],
   "source": []
  },
  {
   "cell_type": "code",
   "execution_count": 18,
   "metadata": {},
   "outputs": [
    {
     "name": "stderr",
     "output_type": "stream",
     "text": [
      "C:\\Users\\kent\\Documents\\CodingStuff\\PythonStuff\\lib\\site-packages\\urllib3\\connectionpool.py:847: InsecureRequestWarning: Unverified HTTPS request is being made. Adding certificate verification is strongly advised. See: https://urllib3.readthedocs.io/en/latest/advanced-usage.html#ssl-warnings\n",
      "  InsecureRequestWarning)\n"
     ]
    }
   ],
   "source": [
    "http = urllib3.PoolManager()\n",
    "resp = http.request('GET', 'https://api.themoviedb.org/3/authentication/token/new?api_key=cec51d9e2e83350795f96e151203f585')\n",
    "json_data = json.loads(resp.data)"
   ]
  },
  {
   "cell_type": "code",
   "execution_count": 19,
   "metadata": {},
   "outputs": [],
   "source": [
    "request_token = json_data['request_token']"
   ]
  },
  {
   "cell_type": "code",
   "execution_count": 20,
   "metadata": {},
   "outputs": [
    {
     "data": {
      "text/plain": [
       "{'success': True,\n",
       " 'expires_at': '2020-01-05 01:04:25 UTC',\n",
       " 'request_token': '117d8e92dc3df2aaf50625fb3951db90648d1e77'}"
      ]
     },
     "execution_count": 20,
     "metadata": {},
     "output_type": "execute_result"
    }
   ],
   "source": []
  },
  {
   "cell_type": "code",
   "execution_count": 106,
   "metadata": {},
   "outputs": [],
   "source": [
    "response = urllib.request.urlopen(\"https://www.themoviedb.org/movie\")\n",
    "charset = response.headers.get_content_charset()\n",
    "soup = BeautifulSoup(response, from_encoding=charset)"
   ]
  },
  {
   "cell_type": "code",
   "execution_count": 107,
   "metadata": {},
   "outputs": [
    {
     "data": {
      "text/plain": [
       "'movie_181812'"
      ]
     },
     "execution_count": 107,
     "metadata": {},
     "output_type": "execute_result"
    }
   ],
   "source": [
    "tmp = soup.find_all(class_=\"image_content\")[0]\n",
    "x = tmp.find_next()\n",
    "movie_id = x.attrs['id']\n",
    "movie_id"
   ]
  },
  {
   "cell_type": "code",
   "execution_count": 14,
   "metadata": {},
   "outputs": [
    {
     "data": {
      "text/plain": [
       "[<div class=\"image_content\">\n",
       " <a alt=\"Star Wars: The Rise of Skywalker\" class=\"result\" href=\"/movie/181812\" id=\"movie_181812\" title=\"Star Wars: The Rise of Skywalker\">\n",
       " <img alt=\"Star Wars: The Rise of Skywalker\" class=\"poster lazyload fade\" data-sizes=\"auto\" data-src=\"https://image.tmdb.org/t/p/w185_and_h278_bestv2/db32LaOibwEliAmSL2jjDF6oDdj.jpg\" data-srcset=\"https://image.tmdb.org/t/p/w185_and_h278_bestv2/db32LaOibwEliAmSL2jjDF6oDdj.jpg 1x, https://image.tmdb.org/t/p/w370_and_h556_bestv2/db32LaOibwEliAmSL2jjDF6oDdj.jpg 2x\"/>\n",
       " <div class=\"meta\">\n",
       " <span class=\"hide popularity_rank_value\" id=\"popularity_51589e8819c2956e650e45e3_value\">\n",
       " <div class=\"tooltip_popup popularity\">\n",
       " <h3>Popularity Rank</h3>\n",
       " <p><span>Today:</span> 1</p>\n",
       " <p><span>Last Week:</span> 2</p>\n",
       " </div>\n",
       " </span>\n",
       " <span class=\"glyphicons glyphicons-cardio x1 popularity_rank\" id=\"popularity_51589e8819c2956e650e45e3\"></span>\n",
       " <span class=\"right\">\n",
       " </span>\n",
       " </div>\n",
       " </a>\n",
       " </div>, <div class=\"image_content\">\n",
       " <a alt=\"Ad Astra\" class=\"result\" href=\"/movie/419704\" id=\"movie_419704\" title=\"Ad Astra\">\n",
       " <img alt=\"Ad Astra\" class=\"poster lazyload fade\" data-sizes=\"auto\" data-src=\"https://image.tmdb.org/t/p/w185_and_h278_bestv2/xBHvZcjRiWyobQ9kxBhO6B2dtRI.jpg\" data-srcset=\"https://image.tmdb.org/t/p/w185_and_h278_bestv2/xBHvZcjRiWyobQ9kxBhO6B2dtRI.jpg 1x, https://image.tmdb.org/t/p/w370_and_h556_bestv2/xBHvZcjRiWyobQ9kxBhO6B2dtRI.jpg 2x\"/>\n",
       " <div class=\"meta\">\n",
       " <span class=\"hide popularity_rank_value\" id=\"popularity_57f62a0ec3a36816250052c3_value\">\n",
       " <div class=\"tooltip_popup popularity\">\n",
       " <h3>Popularity Rank</h3>\n",
       " <p><span>Today:</span> 2</p>\n",
       " <p><span>Last Week:</span> 1</p>\n",
       " </div>\n",
       " </span>\n",
       " <span class=\"glyphicons glyphicons-cardio x1 popularity_rank\" id=\"popularity_57f62a0ec3a36816250052c3\"></span>\n",
       " <span class=\"right\">\n",
       " </span>\n",
       " </div>\n",
       " </a>\n",
       " </div>, <div class=\"image_content\">\n",
       " <a alt=\"Jumanji: The Next Level\" class=\"result\" href=\"/movie/512200\" id=\"movie_512200\" title=\"Jumanji: The Next Level\">\n",
       " <img alt=\"Jumanji: The Next Level\" class=\"poster lazyload fade\" data-sizes=\"auto\" data-src=\"https://image.tmdb.org/t/p/w185_and_h278_bestv2/jyw8VKYEiM1UDzPB7NsisUgBeJ8.jpg\" data-srcset=\"https://image.tmdb.org/t/p/w185_and_h278_bestv2/jyw8VKYEiM1UDzPB7NsisUgBeJ8.jpg 1x, https://image.tmdb.org/t/p/w370_and_h556_bestv2/jyw8VKYEiM1UDzPB7NsisUgBeJ8.jpg 2x\"/>\n",
       " <div class=\"meta\">\n",
       " <span class=\"hide popularity_rank_value\" id=\"popularity_5aac38bd0e0a26782a0058d3_value\">\n",
       " <div class=\"tooltip_popup popularity\">\n",
       " <h3>Popularity Rank</h3>\n",
       " <p><span>Today:</span> 3</p>\n",
       " <p><span>Last Week:</span> 5</p>\n",
       " </div>\n",
       " </span>\n",
       " <span class=\"glyphicons glyphicons-cardio x1 popularity_rank\" id=\"popularity_5aac38bd0e0a26782a0058d3\"></span>\n",
       " <span class=\"right\">\n",
       " </span>\n",
       " </div>\n",
       " </a>\n",
       " </div>, <div class=\"image_content\">\n",
       " <a alt=\"Joker\" class=\"result\" href=\"/movie/475557\" id=\"movie_475557\" title=\"Joker\">\n",
       " <img alt=\"Joker\" class=\"poster lazyload fade\" data-sizes=\"auto\" data-src=\"https://image.tmdb.org/t/p/w185_and_h278_bestv2/udDclJoHjfjb8Ekgsd4FDteOkCU.jpg\" data-srcset=\"https://image.tmdb.org/t/p/w185_and_h278_bestv2/udDclJoHjfjb8Ekgsd4FDteOkCU.jpg 1x, https://image.tmdb.org/t/p/w370_and_h556_bestv2/udDclJoHjfjb8Ekgsd4FDteOkCU.jpg 2x\"/>\n",
       " <div class=\"meta\">\n",
       " <span class=\"hide popularity_rank_value\" id=\"popularity_59b992c59251417df801a2b9_value\">\n",
       " <div class=\"tooltip_popup popularity\">\n",
       " <h3>Popularity Rank</h3>\n",
       " <p><span>Today:</span> 4</p>\n",
       " <p><span>Last Week:</span> 4</p>\n",
       " </div>\n",
       " </span>\n",
       " <span class=\"glyphicons glyphicons-cardio x1 popularity_rank\" id=\"popularity_59b992c59251417df801a2b9\"></span>\n",
       " <span class=\"right\">\n",
       " </span>\n",
       " </div>\n",
       " </a>\n",
       " </div>, <div class=\"image_content\">\n",
       " <a alt=\"Ip Man 4: The Finale\" class=\"result\" href=\"/movie/449924\" id=\"movie_449924\" title=\"Ip Man 4: The Finale\">\n",
       " <img alt=\"Ip Man 4: The Finale\" class=\"poster lazyload fade\" data-sizes=\"auto\" data-src=\"https://image.tmdb.org/t/p/w185_and_h278_bestv2/yJdeWaVXa2se9agI6B4mQunVYkB.jpg\" data-srcset=\"https://image.tmdb.org/t/p/w185_and_h278_bestv2/yJdeWaVXa2se9agI6B4mQunVYkB.jpg 1x, https://image.tmdb.org/t/p/w370_and_h556_bestv2/yJdeWaVXa2se9agI6B4mQunVYkB.jpg 2x\"/>\n",
       " <div class=\"meta\">\n",
       " <span class=\"hide popularity_rank_value\" id=\"popularity_58de53e9c3a3687c1c00b0d1_value\">\n",
       " <div class=\"tooltip_popup popularity\">\n",
       " <h3>Popularity Rank</h3>\n",
       " <p><span>Today:</span> 5</p>\n",
       " <p><span>Last Week:</span> 3</p>\n",
       " </div>\n",
       " </span>\n",
       " <span class=\"glyphicons glyphicons-cardio x1 popularity_rank\" id=\"popularity_58de53e9c3a3687c1c00b0d1\"></span>\n",
       " <span class=\"right\">\n",
       " </span>\n",
       " </div>\n",
       " </a>\n",
       " </div>, <div class=\"image_content\">\n",
       " <a alt=\"6 Underground\" class=\"result\" href=\"/movie/509967\" id=\"movie_509967\" title=\"6 Underground\">\n",
       " <img alt=\"6 Underground\" class=\"poster lazyload fade\" data-sizes=\"auto\" data-src=\"https://image.tmdb.org/t/p/w185_and_h278_bestv2/lnWkyG3LLgbbrIEeyl5mK5VRFe4.jpg\" data-srcset=\"https://image.tmdb.org/t/p/w185_and_h278_bestv2/lnWkyG3LLgbbrIEeyl5mK5VRFe4.jpg 1x, https://image.tmdb.org/t/p/w370_and_h556_bestv2/lnWkyG3LLgbbrIEeyl5mK5VRFe4.jpg 2x\"/>\n",
       " <div class=\"meta\">\n",
       " <span class=\"hide popularity_rank_value\" id=\"popularity_5aa0836792514166350003f2_value\">\n",
       " <div class=\"tooltip_popup popularity\">\n",
       " <h3>Popularity Rank</h3>\n",
       " <p><span>Today:</span> 7</p>\n",
       " <p><span>Last Week:</span> 8</p>\n",
       " </div>\n",
       " </span>\n",
       " <span class=\"glyphicons glyphicons-cardio x1 popularity_rank\" id=\"popularity_5aa0836792514166350003f2\"></span>\n",
       " <span class=\"right\">\n",
       " </span>\n",
       " </div>\n",
       " </a>\n",
       " </div>, <div class=\"image_content\">\n",
       " <a alt=\"Avengers: Infinity War\" class=\"result\" href=\"/movie/299536\" id=\"movie_299536\" title=\"Avengers: Infinity War\">\n",
       " <img alt=\"Avengers: Infinity War\" class=\"poster lazyload fade\" data-sizes=\"auto\" data-src=\"https://image.tmdb.org/t/p/w185_and_h278_bestv2/7WsyChQLEftFiDOVTGkv3hFpyyt.jpg\" data-srcset=\"https://image.tmdb.org/t/p/w185_and_h278_bestv2/7WsyChQLEftFiDOVTGkv3hFpyyt.jpg 1x, https://image.tmdb.org/t/p/w370_and_h556_bestv2/7WsyChQLEftFiDOVTGkv3hFpyyt.jpg 2x\"/>\n",
       " <div class=\"meta\">\n",
       " <span class=\"hide popularity_rank_value\" id=\"popularity_544fe91dc3a368022a00270a_value\">\n",
       " <div class=\"tooltip_popup popularity\">\n",
       " <h3>Popularity Rank</h3>\n",
       " <p><span>Today:</span> 7</p>\n",
       " <p><span>Last Week:</span> 24</p>\n",
       " </div>\n",
       " </span>\n",
       " <span class=\"glyphicons glyphicons-cardio x1 popularity_rank\" id=\"popularity_544fe91dc3a368022a00270a\"></span>\n",
       " <span class=\"right\">\n",
       " </span>\n",
       " </div>\n",
       " </a>\n",
       " </div>, <div class=\"image_content\">\n",
       " <a alt=\"Gundala\" class=\"result\" href=\"/movie/516700\" id=\"movie_516700\" title=\"Gundala\">\n",
       " <img alt=\"Gundala\" class=\"poster lazyload fade\" data-sizes=\"auto\" data-src=\"https://image.tmdb.org/t/p/w185_and_h278_bestv2/eU0orGizEpOli4wtN8HtfOOJDlA.jpg\" data-srcset=\"https://image.tmdb.org/t/p/w185_and_h278_bestv2/eU0orGizEpOli4wtN8HtfOOJDlA.jpg 1x, https://image.tmdb.org/t/p/w370_and_h556_bestv2/eU0orGizEpOli4wtN8HtfOOJDlA.jpg 2x\"/>\n",
       " <div class=\"meta\">\n",
       " <span class=\"hide popularity_rank_value\" id=\"popularity_5ac886490e0a26496b0414ac_value\">\n",
       " <div class=\"tooltip_popup popularity\">\n",
       " <h3>Popularity Rank</h3>\n",
       " <p><span>Today:</span> 9</p>\n",
       " <p><span>Last Week:</span> 7</p>\n",
       " </div>\n",
       " </span>\n",
       " <span class=\"glyphicons glyphicons-cardio x1 popularity_rank\" id=\"popularity_5ac886490e0a26496b0414ac\"></span>\n",
       " <span class=\"right\">\n",
       " </span>\n",
       " </div>\n",
       " </a>\n",
       " </div>, <div class=\"image_content\">\n",
       " <a alt=\"Parasite\" class=\"result\" href=\"/movie/496243\" id=\"movie_496243\" title=\"Parasite\">\n",
       " <img alt=\"Parasite\" class=\"poster lazyload fade\" data-sizes=\"auto\" data-src=\"https://image.tmdb.org/t/p/w185_and_h278_bestv2/7IiTTgloJzvGI1TAYymCfbfl3vT.jpg\" data-srcset=\"https://image.tmdb.org/t/p/w185_and_h278_bestv2/7IiTTgloJzvGI1TAYymCfbfl3vT.jpg 1x, https://image.tmdb.org/t/p/w370_and_h556_bestv2/7IiTTgloJzvGI1TAYymCfbfl3vT.jpg 2x\"/>\n",
       " <div class=\"meta\">\n",
       " <span class=\"hide popularity_rank_value\" id=\"popularity_5a4db2bd0e0a26481d0042b8_value\">\n",
       " <div class=\"tooltip_popup popularity\">\n",
       " <h3>Popularity Rank</h3>\n",
       " <p><span>Today:</span> 7</p>\n",
       " <p><span>Last Week:</span> 34</p>\n",
       " </div>\n",
       " </span>\n",
       " <span class=\"glyphicons glyphicons-cardio x1 popularity_rank\" id=\"popularity_5a4db2bd0e0a26481d0042b8\"></span>\n",
       " <span class=\"right\">\n",
       " </span>\n",
       " </div>\n",
       " </a>\n",
       " </div>, <div class=\"image_content\">\n",
       " <a alt=\"Once Upon a Time… in Hollywood\" class=\"result\" href=\"/movie/466272\" id=\"movie_466272\" title=\"Once Upon a Time… in Hollywood\">\n",
       " <img alt=\"Once Upon a Time… in Hollywood\" class=\"poster lazyload fade\" data-sizes=\"auto\" data-src=\"https://image.tmdb.org/t/p/w185_and_h278_bestv2/8j58iEBw9pOXFD2L0nt0ZXeHviB.jpg\" data-srcset=\"https://image.tmdb.org/t/p/w185_and_h278_bestv2/8j58iEBw9pOXFD2L0nt0ZXeHviB.jpg 1x, https://image.tmdb.org/t/p/w370_and_h556_bestv2/8j58iEBw9pOXFD2L0nt0ZXeHviB.jpg 2x\"/>\n",
       " <div class=\"meta\">\n",
       " <span class=\"hide popularity_rank_value\" id=\"popularity_5967b00b92514134180055cf_value\">\n",
       " <div class=\"tooltip_popup popularity\">\n",
       " <h3>Popularity Rank</h3>\n",
       " <p><span>Today:</span> 13</p>\n",
       " <p><span>Last Week:</span> 12</p>\n",
       " </div>\n",
       " </span>\n",
       " <span class=\"glyphicons glyphicons-cardio x1 popularity_rank\" id=\"popularity_5967b00b92514134180055cf\"></span>\n",
       " <span class=\"right\">\n",
       " </span>\n",
       " </div>\n",
       " </a>\n",
       " </div>, <div class=\"image_content\">\n",
       " <a alt=\"Zombieland: Double Tap\" class=\"result\" href=\"/movie/338967\" id=\"movie_338967\" title=\"Zombieland: Double Tap\">\n",
       " <img alt=\"Zombieland: Double Tap\" class=\"poster lazyload fade\" data-sizes=\"auto\" data-src=\"https://image.tmdb.org/t/p/w185_and_h278_bestv2/dtRbVsUb5O12WWO54SRpiMtHKC0.jpg\" data-srcset=\"https://image.tmdb.org/t/p/w185_and_h278_bestv2/dtRbVsUb5O12WWO54SRpiMtHKC0.jpg 1x, https://image.tmdb.org/t/p/w370_and_h556_bestv2/dtRbVsUb5O12WWO54SRpiMtHKC0.jpg 2x\"/>\n",
       " <div class=\"meta\">\n",
       " <span class=\"hide popularity_rank_value\" id=\"popularity_5549e13f92514104b8001a3b_value\">\n",
       " <div class=\"tooltip_popup popularity\">\n",
       " <h3>Popularity Rank</h3>\n",
       " <p><span>Today:</span> 8</p>\n",
       " <p><span>Last Week:</span> 6</p>\n",
       " </div>\n",
       " </span>\n",
       " <span class=\"glyphicons glyphicons-cardio x1 popularity_rank\" id=\"popularity_5549e13f92514104b8001a3b\"></span>\n",
       " <span class=\"right\">\n",
       " </span>\n",
       " </div>\n",
       " </a>\n",
       " </div>, <div class=\"image_content\">\n",
       " <a alt=\"Ford v Ferrari\" class=\"result\" href=\"/movie/359724\" id=\"movie_359724\" title=\"Ford v Ferrari\">\n",
       " <img alt=\"Ford v Ferrari\" class=\"poster lazyload fade\" data-sizes=\"auto\" data-src=\"https://image.tmdb.org/t/p/w185_and_h278_bestv2/6ApDtO7xaWAfPqfi2IARXIzj8QS.jpg\" data-srcset=\"https://image.tmdb.org/t/p/w185_and_h278_bestv2/6ApDtO7xaWAfPqfi2IARXIzj8QS.jpg 1x, https://image.tmdb.org/t/p/w370_and_h556_bestv2/6ApDtO7xaWAfPqfi2IARXIzj8QS.jpg 2x\"/>\n",
       " <div class=\"meta\">\n",
       " <span class=\"hide popularity_rank_value\" id=\"popularity_55f5f0e1c3a3686d070075b3_value\">\n",
       " <div class=\"tooltip_popup popularity\">\n",
       " <h3>Popularity Rank</h3>\n",
       " <p><span>Today:</span> 9</p>\n",
       " <p><span>Last Week:</span> 84</p>\n",
       " </div>\n",
       " </span>\n",
       " <span class=\"glyphicons glyphicons-cardio x1 popularity_rank\" id=\"popularity_55f5f0e1c3a3686d070075b3\"></span>\n",
       " <span class=\"right\">\n",
       " </span>\n",
       " </div>\n",
       " </a>\n",
       " </div>, <div class=\"image_content\">\n",
       " <a alt=\"Frozen II\" class=\"result\" href=\"/movie/330457\" id=\"movie_330457\" title=\"Frozen II\">\n",
       " <img alt=\"Frozen II\" class=\"poster lazyload fade\" data-sizes=\"auto\" data-src=\"https://image.tmdb.org/t/p/w185_and_h278_bestv2/pjeMs3yqRmFL3giJy4PMXWZTTPa.jpg\" data-srcset=\"https://image.tmdb.org/t/p/w185_and_h278_bestv2/pjeMs3yqRmFL3giJy4PMXWZTTPa.jpg 1x, https://image.tmdb.org/t/p/w370_and_h556_bestv2/pjeMs3yqRmFL3giJy4PMXWZTTPa.jpg 2x\"/>\n",
       " <div class=\"meta\">\n",
       " <span class=\"hide popularity_rank_value\" id=\"popularity_55031019925141275c0043d1_value\">\n",
       " <div class=\"tooltip_popup popularity\">\n",
       " <h3>Popularity Rank</h3>\n",
       " <p><span>Today:</span> 13</p>\n",
       " <p><span>Last Week:</span> 7</p>\n",
       " </div>\n",
       " </span>\n",
       " <span class=\"glyphicons glyphicons-cardio x1 popularity_rank\" id=\"popularity_55031019925141275c0043d1\"></span>\n",
       " <span class=\"right\">\n",
       " </span>\n",
       " </div>\n",
       " </a>\n",
       " </div>, <div class=\"image_content\">\n",
       " <a alt=\"Red Shoes and the Seven Dwarfs\" class=\"result\" href=\"/movie/486589\" id=\"movie_486589\" title=\"Red Shoes and the Seven Dwarfs\">\n",
       " <img alt=\"Red Shoes and the Seven Dwarfs\" class=\"poster lazyload fade\" data-sizes=\"auto\" data-src=\"https://image.tmdb.org/t/p/w185_and_h278_bestv2/MBiKqTsouYqAACLYNDadsjhhC0.jpg\" data-srcset=\"https://image.tmdb.org/t/p/w185_and_h278_bestv2/MBiKqTsouYqAACLYNDadsjhhC0.jpg 1x, https://image.tmdb.org/t/p/w370_and_h556_bestv2/MBiKqTsouYqAACLYNDadsjhhC0.jpg 2x\"/>\n",
       " <div class=\"meta\">\n",
       " <span class=\"hide popularity_rank_value\" id=\"popularity_5a079f8e9251414c1900825a_value\">\n",
       " <div class=\"tooltip_popup popularity\">\n",
       " <h3>Popularity Rank</h3>\n",
       " <p><span>Today:</span> 10</p>\n",
       " <p><span>Last Week:</span> 25</p>\n",
       " </div>\n",
       " </span>\n",
       " <span class=\"glyphicons glyphicons-cardio x1 popularity_rank\" id=\"popularity_5a079f8e9251414c1900825a\"></span>\n",
       " <span class=\"right\">\n",
       " </span>\n",
       " </div>\n",
       " </a>\n",
       " </div>, <div class=\"image_content\">\n",
       " <a alt=\"Knives Out\" class=\"result\" href=\"/movie/546554\" id=\"movie_546554\" title=\"Knives Out\">\n",
       " <img alt=\"Knives Out\" class=\"poster lazyload fade\" data-sizes=\"auto\" data-src=\"https://image.tmdb.org/t/p/w185_and_h278_bestv2/pThyQovXQrw2m0s9x82twj48Jq4.jpg\" data-srcset=\"https://image.tmdb.org/t/p/w185_and_h278_bestv2/pThyQovXQrw2m0s9x82twj48Jq4.jpg 1x, https://image.tmdb.org/t/p/w370_and_h556_bestv2/pThyQovXQrw2m0s9x82twj48Jq4.jpg 2x\"/>\n",
       " <div class=\"meta\">\n",
       " <span class=\"hide popularity_rank_value\" id=\"popularity_5b8f0c770e0a267f53001913_value\">\n",
       " <div class=\"tooltip_popup popularity\">\n",
       " <h3>Popularity Rank</h3>\n",
       " <p><span>Today:</span> 15</p>\n",
       " <p><span>Last Week:</span> 17</p>\n",
       " </div>\n",
       " </span>\n",
       " <span class=\"glyphicons glyphicons-cardio x1 popularity_rank\" id=\"popularity_5b8f0c770e0a267f53001913\"></span>\n",
       " <span class=\"right\">\n",
       " </span>\n",
       " </div>\n",
       " </a>\n",
       " </div>, <div class=\"image_content\">\n",
       " <a alt=\"Spies in Disguise\" class=\"result\" href=\"/movie/431693\" id=\"movie_431693\" title=\"Spies in Disguise\">\n",
       " <img alt=\"Spies in Disguise\" class=\"poster lazyload fade\" data-sizes=\"auto\" data-src=\"https://image.tmdb.org/t/p/w185_and_h278_bestv2/30YacPAcxpNemhhwX0PVUl9pVA3.jpg\" data-srcset=\"https://image.tmdb.org/t/p/w185_and_h278_bestv2/30YacPAcxpNemhhwX0PVUl9pVA3.jpg 1x, https://image.tmdb.org/t/p/w370_and_h556_bestv2/30YacPAcxpNemhhwX0PVUl9pVA3.jpg 2x\"/>\n",
       " <div class=\"meta\">\n",
       " <span class=\"hide popularity_rank_value\" id=\"popularity_585fc33c92514115ca01da0e_value\">\n",
       " <div class=\"tooltip_popup popularity\">\n",
       " <h3>Popularity Rank</h3>\n",
       " <p><span>Today:</span> 13</p>\n",
       " <p><span>Last Week:</span> 40</p>\n",
       " </div>\n",
       " </span>\n",
       " <span class=\"glyphicons glyphicons-cardio x1 popularity_rank\" id=\"popularity_585fc33c92514115ca01da0e\"></span>\n",
       " <span class=\"right\">\n",
       " </span>\n",
       " </div>\n",
       " </a>\n",
       " </div>, <div class=\"image_content\">\n",
       " <a alt=\"Aquaman\" class=\"result\" href=\"/movie/297802\" id=\"movie_297802\" title=\"Aquaman\">\n",
       " <img alt=\"Aquaman\" class=\"poster lazyload fade\" data-sizes=\"auto\" data-src=\"https://image.tmdb.org/t/p/w185_and_h278_bestv2/5Kg76ldv7VxeX9YlcQXiowHgdX6.jpg\" data-srcset=\"https://image.tmdb.org/t/p/w185_and_h278_bestv2/5Kg76ldv7VxeX9YlcQXiowHgdX6.jpg 1x, https://image.tmdb.org/t/p/w370_and_h556_bestv2/5Kg76ldv7VxeX9YlcQXiowHgdX6.jpg 2x\"/>\n",
       " <div class=\"meta\">\n",
       " <span class=\"hide popularity_rank_value\" id=\"popularity_5440274e0e0a260269000626_value\">\n",
       " <div class=\"tooltip_popup popularity\">\n",
       " <h3>Popularity Rank</h3>\n",
       " <p><span>Today:</span> 17</p>\n",
       " <p><span>Last Week:</span> 187</p>\n",
       " </div>\n",
       " </span>\n",
       " <span class=\"glyphicons glyphicons-cardio x1 popularity_rank\" id=\"popularity_5440274e0e0a260269000626\"></span>\n",
       " <span class=\"right\">\n",
       " </span>\n",
       " </div>\n",
       " </a>\n",
       " </div>, <div class=\"image_content\">\n",
       " <a alt=\"Angel Has Fallen\" class=\"result\" href=\"/movie/423204\" id=\"movie_423204\" title=\"Angel Has Fallen\">\n",
       " <img alt=\"Angel Has Fallen\" class=\"poster lazyload fade\" data-sizes=\"auto\" data-src=\"https://image.tmdb.org/t/p/w185_and_h278_bestv2/fapXd3v9qTcNBTm39ZC4KUVQDNf.jpg\" data-srcset=\"https://image.tmdb.org/t/p/w185_and_h278_bestv2/fapXd3v9qTcNBTm39ZC4KUVQDNf.jpg 1x, https://image.tmdb.org/t/p/w370_and_h556_bestv2/fapXd3v9qTcNBTm39ZC4KUVQDNf.jpg 2x\"/>\n",
       " <div class=\"meta\">\n",
       " <span class=\"hide popularity_rank_value\" id=\"popularity_5813607c925141571e024d46_value\">\n",
       " <div class=\"tooltip_popup popularity\">\n",
       " <h3>Popularity Rank</h3>\n",
       " <p><span>Today:</span> 17</p>\n",
       " <p><span>Last Week:</span> 29</p>\n",
       " </div>\n",
       " </span>\n",
       " <span class=\"glyphicons glyphicons-cardio x1 popularity_rank\" id=\"popularity_5813607c925141571e024d46\"></span>\n",
       " <span class=\"right\">\n",
       " </span>\n",
       " </div>\n",
       " </a>\n",
       " </div>, <div class=\"image_content\">\n",
       " <a alt=\"Rambo: Last Blood\" class=\"result\" href=\"/movie/522938\" id=\"movie_522938\" title=\"Rambo: Last Blood\">\n",
       " <img alt=\"Rambo: Last Blood\" class=\"poster lazyload fade\" data-sizes=\"auto\" data-src=\"https://image.tmdb.org/t/p/w185_and_h278_bestv2/kTQ3J8oTTKofAVLYnds2cHUz9KO.jpg\" data-srcset=\"https://image.tmdb.org/t/p/w185_and_h278_bestv2/kTQ3J8oTTKofAVLYnds2cHUz9KO.jpg 1x, https://image.tmdb.org/t/p/w370_and_h556_bestv2/kTQ3J8oTTKofAVLYnds2cHUz9KO.jpg 2x\"/>\n",
       " <div class=\"meta\">\n",
       " <span class=\"hide popularity_rank_value\" id=\"popularity_5af104e10e0a26445800158c_value\">\n",
       " <div class=\"tooltip_popup popularity\">\n",
       " <h3>Popularity Rank</h3>\n",
       " <p><span>Today:</span> 27</p>\n",
       " <p><span>Last Week:</span> 18</p>\n",
       " </div>\n",
       " </span>\n",
       " <span class=\"glyphicons glyphicons-cardio x1 popularity_rank\" id=\"popularity_5af104e10e0a26445800158c\"></span>\n",
       " <span class=\"right\">\n",
       " </span>\n",
       " </div>\n",
       " </a>\n",
       " </div>, <div class=\"image_content\">\n",
       " <a alt=\"Maleficent: Mistress of Evil\" class=\"result\" href=\"/movie/420809\" id=\"movie_420809\" title=\"Maleficent: Mistress of Evil\">\n",
       " <img alt=\"Maleficent: Mistress of Evil\" class=\"poster lazyload fade\" data-sizes=\"auto\" data-src=\"https://image.tmdb.org/t/p/w185_and_h278_bestv2/tBuabjEqxzoUBHfbyNbd8ulgy5j.jpg\" data-srcset=\"https://image.tmdb.org/t/p/w185_and_h278_bestv2/tBuabjEqxzoUBHfbyNbd8ulgy5j.jpg 1x, https://image.tmdb.org/t/p/w370_and_h556_bestv2/tBuabjEqxzoUBHfbyNbd8ulgy5j.jpg 2x\"/>\n",
       " <div class=\"meta\">\n",
       " <span class=\"hide popularity_rank_value\" id=\"popularity_57fd974392514106990024f9_value\">\n",
       " <div class=\"tooltip_popup popularity\">\n",
       " <h3>Popularity Rank</h3>\n",
       " <p><span>Today:</span> 20</p>\n",
       " <p><span>Last Week:</span> 134</p>\n",
       " </div>\n",
       " </span>\n",
       " <span class=\"glyphicons glyphicons-cardio x1 popularity_rank\" id=\"popularity_57fd974392514106990024f9\"></span>\n",
       " <span class=\"right\">\n",
       " </span>\n",
       " </div>\n",
       " </a>\n",
       " </div>]"
      ]
     },
     "execution_count": 14,
     "metadata": {},
     "output_type": "execute_result"
    }
   ],
   "source": [
    "soup.find_all('div', {'class': ['image_content']})"
   ]
  },
  {
   "cell_type": "code",
   "execution_count": null,
   "metadata": {},
   "outputs": [],
   "source": []
  },
  {
   "cell_type": "code",
   "execution_count": 15,
   "metadata": {},
   "outputs": [],
   "source": [
    "movies = []\n",
    "for tmp in soup.find_all(class_=\"image_content\"):\n",
    "    x = tmp.find_next()\n",
    "    movie_id = x.attrs['id']\n",
    "    movie_id = movie_id.split('_')[1]\n",
    "    movies.append(movie_id)"
   ]
  },
  {
   "cell_type": "code",
   "execution_count": 175,
   "metadata": {},
   "outputs": [
    {
     "data": {
      "text/plain": [
       "['419704',\n",
       " '181812',\n",
       " '512200',\n",
       " '449924',\n",
       " '475557',\n",
       " '338967',\n",
       " '509967',\n",
       " '330457',\n",
       " '299536',\n",
       " '516700',\n",
       " '466272',\n",
       " '546554',\n",
       " '486589',\n",
       " '496243',\n",
       " '431693',\n",
       " '269149',\n",
       " '423204',\n",
       " '522938',\n",
       " '11',\n",
       " '453405']"
      ]
     },
     "execution_count": 175,
     "metadata": {},
     "output_type": "execute_result"
    }
   ],
   "source": [
    "movies"
   ]
  },
  {
   "cell_type": "code",
   "execution_count": 176,
   "metadata": {},
   "outputs": [],
   "source": [
    "import webbrowser"
   ]
  },
  {
   "cell_type": "code",
   "execution_count": 204,
   "metadata": {},
   "outputs": [
    {
     "name": "stderr",
     "output_type": "stream",
     "text": [
      "C:\\Users\\kent\\Documents\\CodingStuff\\PythonStuff\\lib\\site-packages\\urllib3\\connectionpool.py:847: InsecureRequestWarning: Unverified HTTPS request is being made. Adding certificate verification is strongly advised. See: https://urllib3.readthedocs.io/en/latest/advanced-usage.html#ssl-warnings\n",
      "  InsecureRequestWarning)\n"
     ]
    }
   ],
   "source": [
    "#pool = urllib.request\n",
    "#req = pool.request('GET', 'https://api.amctheatres.com/v2/movies/views/now-playing')\n",
    "#req."
   ]
  },
  {
   "cell_type": "code",
   "execution_count": 39,
   "metadata": {},
   "outputs": [
    {
     "data": {
      "text/plain": [
       "\"headers = {}\\nheaders['User-Agent'] = 'Mozilla/5.0 (Windows NT 10.0; Win64; x64) AppleWebKit/537.36 (KHTML, like Gecko) Chrome/79.0.3945.88 Safari/537.36'\\n#headers['Content-Type'] = 'text/html; enconding=utf8'\\n#headers['Accept'] = 'text/html,application/xhtml+xml,application/xml;q=0.9,*/*;q=0.8'\\n#headers['Accept-Charset'] = 'ISO-8859-1,utf-8;q=0.7,*;q=0.3'\\n#headers['Accept-Encoding'] = 'none'\\n#headers['Accept-Language'] = 'en-US,en;q=0.8'\\n#headers['Connection'] = 'keep-alive'\\nheaders['X-API-Key'] = 'DB453B97-F247-4CDE-8BF1-BABA568A49B5'\\nheaders['X-AMC-Vendor-Key'] = '31dd5ae1-9562-4b1f-b718-f8b1a3a97492'\\nreq = urllib.request.Request('https://api.amctheatres.com/v2/movies/views/now-playing', headers=headers)\\n#req.add_header('api_key', 'DB453B97-F247-4CDE-8BF1-BABA568A49B5')\\n#req.add_header('X-AMC-Vendor-Key', '31dd5ae1-9562-4b1f-b718-f8b1a3a97492')\\n#req.headers\\n#req.add_header('page-number', '2')\\n#req.add_header('page-size','10')\\n#req.add_header('User-Agent', 'Mozilla/5.0 (Windows NT 10.0; Win64; x64) AppleWebKit/537.36 (KHTML, like Gecko) Chrome/79.0.3945.88 Safari/537.36')\\n#req.headers\\n\\ncontent = urllib.request.urlopen(req)\\n\""
      ]
     },
     "execution_count": 39,
     "metadata": {},
     "output_type": "execute_result"
    }
   ],
   "source": [
    "'''headers = {}\n",
    "headers['User-Agent'] = 'Mozilla/5.0 (Windows NT 10.0; Win64; x64) AppleWebKit/537.36 (KHTML, like Gecko) Chrome/79.0.3945.88 Safari/537.36'\n",
    "#headers['Content-Type'] = 'text/html; enconding=utf8'\n",
    "#headers['Accept'] = 'text/html,application/xhtml+xml,application/xml;q=0.9,*/*;q=0.8'\n",
    "#headers['Accept-Charset'] = 'ISO-8859-1,utf-8;q=0.7,*;q=0.3'\n",
    "#headers['Accept-Encoding'] = 'none'\n",
    "#headers['Accept-Language'] = 'en-US,en;q=0.8'\n",
    "#headers['Connection'] = 'keep-alive'\n",
    "headers['X-API-Key'] = 'DB453B97-F247-4CDE-8BF1-BABA568A49B5'\n",
    "headers['X-AMC-Vendor-Key'] = '31dd5ae1-9562-4b1f-b718-f8b1a3a97492'\n",
    "req = urllib.request.Request('https://api.amctheatres.com/v2/movies/views/now-playing', headers=headers)\n",
    "#req.add_header('api_key', 'DB453B97-F247-4CDE-8BF1-BABA568A49B5')\n",
    "#req.add_header('X-AMC-Vendor-Key', '31dd5ae1-9562-4b1f-b718-f8b1a3a97492')\n",
    "#req.headers\n",
    "#req.add_header('page-number', '2')\n",
    "#req.add_header('page-size','10')\n",
    "#req.add_header('User-Agent', 'Mozilla/5.0 (Windows NT 10.0; Win64; x64) AppleWebKit/537.36 (KHTML, like Gecko) Chrome/79.0.3945.88 Safari/537.36')\n",
    "#req.headers\n",
    "\n",
    "content = urllib.request.urlopen(req)\n",
    "'''"
   ]
  },
  {
   "cell_type": "code",
   "execution_count": 28,
   "metadata": {},
   "outputs": [
    {
     "name": "stdout",
     "output_type": "stream",
     "text": [
      "z\n",
      "z\n",
      "z\n",
      "z\n",
      "z\n",
      "z\n",
      "z\n",
      "z\n",
      "z\n",
      "z\n",
      "z\n",
      "z\n",
      "z\n",
      "z\n",
      "z\n",
      "z\n",
      "z\n",
      "z\n",
      "z\n"
     ]
    }
   ],
   "source": [
    "import time\n",
    "movieLength = {}\n",
    "for x in list(listOfMovieTimes):\n",
    "    for y in list(listOfMovieTimes[x]):\n",
    "        if y not in movieLength:\n",
    "            try:\n",
    "                headers = {}\n",
    "                headers['User-Agent'] = 'Mozilla/5.0 (Windows NT 10.0; Win64; x64) AppleWebKit/537.36 (KHTML, like Gecko) Chrome/79.0.3945.88 Safari/537.36'\n",
    "                payload = {'q': y}\n",
    "                time.sleep(1)\n",
    "                res = requests.get('https://google.com/search', headers=headers, params=payload)\n",
    "                #resp = urllib.request.urlopen(res)\n",
    "                soup = BeautifulSoup(res.text)\n",
    "                text = soup.find_all('div', {'class': ['wwUB2c']})\n",
    "                if text == []:\n",
    "                    print(y)\n",
    "                    listOfMovieTimes[x].pop(y)\n",
    "                    continue\n",
    "                tmp = text[0].text.split()\n",
    "                tmp = tmp[-2:]\n",
    "                tmp[0] = tmp[0][:-1]\n",
    "                tmp[1] = tmp[1][:-1]\n",
    "                #tmp = \n",
    "                #current = time.strptime(tmp, '%I:%M%p')\n",
    "                movieLength[y] = tmp\n",
    "                print('z')\n",
    "            except Exception as e:\n",
    "                print(str(e))\n",
    "        #addedTime = listOfMovieTimes[x][y] + datetime.timedelta(hours=current.hour, minutes=current.minute)\n",
    "        #listOfMovie"
   ]
  },
  {
   "cell_type": "code",
   "execution_count": 29,
   "metadata": {},
   "outputs": [
    {
     "data": {
      "text/plain": [
       "{'star wars: the rise of skywalker': ['2', '22'],\n",
       " 'jumanji: the next level': ['2', '3'],\n",
       " 'the grudge': ['1', '34'],\n",
       " 'frozen 2': ['1', '43'],\n",
       " 'little women (2019)': ['2', '15'],\n",
       " 'spies in disguise': ['1', '42'],\n",
       " 'knives out': ['2', '10'],\n",
       " 'uncut gems': ['2', '15'],\n",
       " 'bombshell': ['1', '49'],\n",
       " 'cats': ['1', '49'],\n",
       " 'queen & slim': ['2', '12'],\n",
       " 'a beautiful day in the neighborhood': ['1', '49'],\n",
       " '21 bridges': ['1', '39'],\n",
       " 'ip man 4': ['1', '45'],\n",
       " 'mystify: michael hutchence': ['1', '48'],\n",
       " 'just mercy': ['2', '17'],\n",
       " 'like a boss': ['1', '23'],\n",
       " '1917': ['1', '59'],\n",
       " 'underwater': ['1', '35']}"
      ]
     },
     "execution_count": 29,
     "metadata": {},
     "output_type": "execute_result"
    }
   ],
   "source": [
    "movieLength"
   ]
  },
  {
   "cell_type": "code",
   "execution_count": null,
   "metadata": {},
   "outputs": [],
   "source": [
    "#prefMovies is a list of movies you would like to watch\n",
    "def bestMovieTimes(prefMovies, date):\n",
    "    for y in listOfMovieTimes[date]:\n",
    "        "
   ]
  },
  {
   "cell_type": "code",
   "execution_count": 107,
   "metadata": {},
   "outputs": [
    {
     "name": "stdout",
     "output_type": "stream",
     "text": [
      "['2h', '22m']\n"
     ]
    }
   ],
   "source": [
    "tmp = text[0].text.split()\n",
    "tmp = tmp[-2:]\n",
    "time = datetime.datetime.now() +datetime.timedelta(hours=1, minutes= 50)\n",
    "print(tmp)"
   ]
  },
  {
   "cell_type": "code",
   "execution_count": 76,
   "metadata": {},
   "outputs": [
    {
     "data": {
      "text/plain": [
       "datetime.datetime(1900, 1, 1, 4, 30)"
      ]
     },
     "execution_count": 76,
     "metadata": {},
     "output_type": "execute_result"
    }
   ],
   "source": [
    "datetime.datetime.strptime('2:30', '%H:%M') + datetime.timedelta(hours=2)"
   ]
  },
  {
   "cell_type": "code",
   "execution_count": 103,
   "metadata": {},
   "outputs": [],
   "source": [
    "import time\n",
    "time.sleep(1)"
   ]
  },
  {
   "cell_type": "code",
   "execution_count": 91,
   "metadata": {},
   "outputs": [
    {
     "name": "stdout",
     "output_type": "stream",
     "text": [
      "1900-01-01 01:00:00\n",
      "1:00pm\n"
     ]
    }
   ],
   "source": [
    "tmptime = listOfMovieTimes['2020-01-04']['jumanji: the next level'][2]\n",
    "print(datetime.datetime.strptime(tmptime, '%H:%M%p'))\n",
    "print(tmptime)"
   ]
  },
  {
   "cell_type": "code",
   "execution_count": 92,
   "metadata": {},
   "outputs": [],
   "source": [
    "import time"
   ]
  },
  {
   "cell_type": "code",
   "execution_count": 100,
   "metadata": {},
   "outputs": [
    {
     "data": {
      "text/plain": [
       "0"
      ]
     },
     "execution_count": 100,
     "metadata": {},
     "output_type": "execute_result"
    }
   ],
   "source": [
    "time.strptime(tmptime, '%I:%M%p').minute"
   ]
  },
  {
   "cell_type": "code",
   "execution_count": 62,
   "metadata": {},
   "outputs": [],
   "source": [
    "soup = BeautifulSoup(data, from_encoding=\"utf-8\")"
   ]
  },
  {
   "cell_type": "code",
   "execution_count": 67,
   "metadata": {},
   "outputs": [],
   "source": [
    "tmp = soup.find_all('a',{'class':[\"MiPcId\", \"mlo-c\", \"r-iidAUiYzIbmM\"]})"
   ]
  },
  {
   "cell_type": "code",
   "execution_count": 69,
   "metadata": {},
   "outputs": [
    {
     "data": {
      "text/plain": [
       "{'style': 'height:260px;width:120px;margin-right:8px',\n",
       " 'class': ['MiPcId', 'mlo-c', 'r-ic2HAlxpZzoY'],\n",
       " 'aria-label': 'Star Wars: The Rise of Skywalker',\n",
       " 'aria-posinset': '1',\n",
       " 'aria-setsize': '51',\n",
       " 'href': '/search?q=star+wars:+the+rise+of+skywalker&stick=H4sIAAAAAAAAAOPgVeLSz9U3KIk3zzY13sDI-IhRnlvg5Y97wlJik9acvMYowMXnm1-WmRqckV9ekpmbWsyzi4nLLTMnNyQzOTu1ZBGrQnFJYpFCeWJRsZVCSUaqQlFmcapCfppCcXZleWJOdmoRACnbimxjAAAA&npsic=0&sa=X&ved=2ahUKEwjQu4aVyOXmAhViJTQIHZczB4MQ-BYwHXoECBAQOg',\n",
       " 'jscontroller': '',\n",
       " 'role': 'listitem',\n",
       " 'jsl': '$t t-K64WL0oiT1I;$x 0;',\n",
       " 'data-hveid': 'CBAQOg',\n",
       " 'data-ved': '2ahUKEwjQu4aVyOXmAhViJTQIHZczB4MQ-BYwHXoECBAQOg'}"
      ]
     },
     "execution_count": 69,
     "metadata": {},
     "output_type": "execute_result"
    }
   ],
   "source": [
    "tmp[0].attrs"
   ]
  },
  {
   "cell_type": "code",
   "execution_count": 126,
   "metadata": {},
   "outputs": [
    {
     "data": {
      "text/plain": [
       "2"
      ]
     },
     "execution_count": 126,
     "metadata": {},
     "output_type": "execute_result"
    }
   ],
   "source": [
    "dictA = {'cat': 2}\n",
    "dictA.pop('cat')"
   ]
  },
  {
   "cell_type": "code",
   "execution_count": 127,
   "metadata": {},
   "outputs": [
    {
     "data": {
      "text/plain": [
       "{}"
      ]
     },
     "execution_count": 127,
     "metadata": {},
     "output_type": "execute_result"
    }
   ],
   "source": [
    "dictA"
   ]
  },
  {
   "cell_type": "code",
   "execution_count": 131,
   "metadata": {},
   "outputs": [
    {
     "data": {
      "text/plain": [
       "dict_keys(['star wars: the rise of skywalker', 'jumanji: the next level', 'the grudge', 'frozen 2', 'little women (2019)', 'spies in disguise', 'knives out', 'uncut gems', 'bombshell', 'cats', 'queen & slim', 'a beautiful day in the neighborhood', '21 bridges', 'ip man 4'])"
      ]
     },
     "execution_count": 131,
     "metadata": {},
     "output_type": "execute_result"
    }
   ],
   "source": [
    "listOfMovieTimes['2020-01-04'].keys()"
   ]
  },
  {
   "cell_type": "code",
   "execution_count": 136,
   "metadata": {},
   "outputs": [
    {
     "ename": "ModuleNotFoundError",
     "evalue": "No module named 'datetimerange'",
     "output_type": "error",
     "traceback": [
      "\u001b[1;31m---------------------------------------------------------------------------\u001b[0m",
      "\u001b[1;31mModuleNotFoundError\u001b[0m                       Traceback (most recent call last)",
      "\u001b[1;32m<ipython-input-136-479cf8b6907c>\u001b[0m in \u001b[0;36m<module>\u001b[1;34m\u001b[0m\n\u001b[1;32m----> 1\u001b[1;33m \u001b[1;32mfrom\u001b[0m \u001b[0mdatetimerange\u001b[0m \u001b[1;32mimport\u001b[0m \u001b[0mDateTimeRange\u001b[0m\u001b[1;33m\u001b[0m\u001b[1;33m\u001b[0m\u001b[0m\n\u001b[0m",
      "\u001b[1;31mModuleNotFoundError\u001b[0m: No module named 'datetimerange'"
     ]
    }
   ],
   "source": [
    "from datetimerange import DateTimeRange"
   ]
  },
  {
   "cell_type": "code",
   "execution_count": 139,
   "metadata": {},
   "outputs": [
    {
     "data": {
      "text/plain": [
       "True"
      ]
     },
     "execution_count": 139,
     "metadata": {},
     "output_type": "execute_result"
    }
   ],
   "source": [
    "datetime.datetime.now() < (datetime.datetime.now() + datetime.timedelta(hours=1))"
   ]
  },
  {
   "cell_type": "code",
   "execution_count": null,
   "metadata": {},
   "outputs": [],
   "source": []
  }
 ],
 "metadata": {
  "kernelspec": {
   "display_name": "Python 3",
   "language": "python",
   "name": "python3"
  },
  "language_info": {
   "codemirror_mode": {
    "name": "ipython",
    "version": 3
   },
   "file_extension": ".py",
   "mimetype": "text/x-python",
   "name": "python",
   "nbconvert_exporter": "python",
   "pygments_lexer": "ipython3",
   "version": "3.6.9"
  }
 },
 "nbformat": 4,
 "nbformat_minor": 2
}
